{
 "cells": [
  {
   "cell_type": "code",
   "execution_count": 1,
   "id": "4a03405c-b642-40cf-afbd-a9358206edc5",
   "metadata": {},
   "outputs": [],
   "source": [
    "import re\n"
   ]
  },
  {
   "cell_type": "code",
   "execution_count": 2,
   "id": "4830d578-215e-421f-aa7c-036f10df7deb",
   "metadata": {},
   "outputs": [],
   "source": [
    "import random\n"
   ]
  },
  {
   "cell_type": "code",
   "execution_count": null,
   "id": "ce78160c-b924-401a-a7ba-437650ff8e65",
   "metadata": {},
   "outputs": [
    {
     "name": "stdin",
     "output_type": "stream",
     "text": [
      "what is your name ? \n",
      " shubhdeep\n",
      "Hi shubhdeep, I am rule-Bot. Will you help me to learn about your planet ?\n",
      " yes\n",
      "What technology do you have on this planet ? java\n",
      "I see. Can you elaborate ?\n",
      " yes it is a very nice language\n",
      "Why do you say that ?\n",
      " because it involves object oriented programming\n",
      "Tell me more!\n",
      " ya, it utilizes many more applications\n",
      "How do you think I feel when you say that ?\n",
      " nothing\n"
     ]
    }
   ],
   "source": [
    "class RuleBot:\n",
    "    ### Potential Negative Response\n",
    "    negative_responses = (\"no\", \"nope\", \"nah\", \"naw\", \"not a chance\", \"sorry\")\n",
    "    ### Exit conversation keywords\n",
    "    exit_commands = (\"quit\", \"pause\", \"exit\", \"goodbye\", \"bye\", \"later\")\n",
    "    ### Random Starter questions\n",
    "    random_questions = (\n",
    "        \"why are you here ? \", \n",
    "        \"Are there many humans like you ? \",\n",
    "        \"what do you consume for sustenance ? \",\n",
    "        \"Is there Intelligent life on this planet ? \",\n",
    "        \"Does Earth have a leader ?\",\n",
    "        \"What planets have you visited ?\", \n",
    "        \"What technology do you have on this planet ?\"\n",
    "    )\n",
    "\n",
    "    def __init__(self):\n",
    "        self.alienbabble = {'describe_planet_intent': r'.*\\s*your planet.*',\n",
    "                            'answer_why_intent':r'why\\sare.*',\n",
    "                            'about_intellipaat': r'.*\\*intellipaat.*',\n",
    "                            'about_session': r'.*\\s*session.*'}\n",
    "    \n",
    "    def greet(self):\n",
    "        self.name = input(\"what is your name ? \\n\")\n",
    "        will_help = input(\n",
    "            f\"Hi {self.name}, I am rule-Bot. Will you help me to learn about your planet ?\\n\") \n",
    "\n",
    "        if will_help in self.negative_responses:\n",
    "            print(\"OK, have a nice Earth day !\")\n",
    "            return\n",
    "        self.chat()\n",
    "\n",
    "    def make_exit(self, reply):\n",
    "        for command in self.exit_commands:\n",
    "            if reply == command:\n",
    "                print(\"Okay, have a nice Earth day !\")\n",
    "                return True\n",
    "\n",
    "    def chat(self):\n",
    "        reply = input(random.choice(self.random_questions)).lower()\n",
    "        while not self.make_exit(reply):\n",
    "            reply = input(self.match_reply(reply))\n",
    "\n",
    "    def match_reply(self, reply):\n",
    "        for key, value in self.alienbabble.items():\n",
    "            intent = key\n",
    "            regex_pattern = value\n",
    "            found_match = re.match(regex_pattern, reply)\n",
    "            if found_match and intent == 'describe_planet_intent':\n",
    "                return self.describe_planet_intent()\n",
    "            elif found_match and intent == 'answer_why_intent':\n",
    "                return self.answer_why_intent()\n",
    "            elif found_match and intent == 'about_intellipaat':\n",
    "                return self.about_intellipaat()\n",
    "            elif found_match and intent == 'about_session':\n",
    "                return self.about_session()\n",
    "        if not found_match:\n",
    "            return self.no_watch_intent()  # Fix the method name here\n",
    "\n",
    "    def describe_planet_intent(self):\n",
    "        responses = (\"My planet is a utopia of diverse organises and species.\\n\",\n",
    "                     \"I am from Opidipus, the capital of the Wayward Galaxies.\\n\")\n",
    "        return random.choice(responses)\n",
    "\n",
    "    def answer_why_intent(self):\n",
    "        responses = (\"I come in peace\\n\", \"I am here to collect data on your planet and its inhabitants\\n\",\n",
    "                     \"I heard the coffee is good\\n\")\n",
    "        return random.choice(responses)\n",
    "\n",
    "    def about_intellipaat(self):\n",
    "        responses = (\"Intellipaat is world's largest progessional educational company\\n\", \"Intellipaat will make you learn concepts in the way never have learned\\n\", \n",
    "                     \"Intellipaat is where your career and skill grows\\n\")\n",
    "        return random.choice(responses)\n",
    "\n",
    "    def about_session(self):\n",
    "        responses = ('Session is on 14th Nov 2023 \\n', 'Session was cool !!')\n",
    "        return random.choice(responses)\n",
    "\n",
    "    def no_watch_intent(self):\n",
    "        responses = (\n",
    "        \"Please tell me more.\\n\", \"Tell me more!\\n\", \"Why do you say that ?\\n\", \"I see. Can you elaborate ?\\n\",\n",
    "        \"Interesting. Can you tell me more ?\\n\", \"I see . How do you think?\\n\", \"why ?\\n\",\n",
    "        \"How do you think I feel when you say that ?\\n\")\n",
    "        return random.choice(responses)\n",
    "\n",
    "AlienBot = RuleBot()\n",
    "AlienBot.greet()"
   ]
  },
  {
   "cell_type": "code",
   "execution_count": null,
   "id": "0489fb01-ab96-4820-b2f9-32c5b76a9ad6",
   "metadata": {},
   "outputs": [],
   "source": []
  }
 ],
 "metadata": {
  "kernelspec": {
   "display_name": "Python 3 (ipykernel)",
   "language": "python",
   "name": "python3"
  },
  "language_info": {
   "codemirror_mode": {
    "name": "ipython",
    "version": 3
   },
   "file_extension": ".py",
   "mimetype": "text/x-python",
   "name": "python",
   "nbconvert_exporter": "python",
   "pygments_lexer": "ipython3",
   "version": "3.11.7"
  }
 },
 "nbformat": 4,
 "nbformat_minor": 5
}
